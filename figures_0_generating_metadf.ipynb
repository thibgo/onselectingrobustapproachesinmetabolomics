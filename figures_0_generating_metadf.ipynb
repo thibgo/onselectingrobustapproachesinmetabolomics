{
 "cells": [
  {
   "cell_type": "code",
   "execution_count": 1,
   "metadata": {},
   "outputs": [],
   "source": [
    "import os\n",
    "import json\n",
    "import numpy as np\n",
    "import pandas as pd\n",
    "import seaborn as sns\n",
    "import pickle as pkl\n",
    "import matplotlib.pyplot as plt"
   ]
  },
  {
   "cell_type": "code",
   "execution_count": 2,
   "metadata": {},
   "outputs": [
    {
     "data": {
      "text/html": [
       "<div>\n",
       "<style scoped>\n",
       "    .dataframe tbody tr th:only-of-type {\n",
       "        vertical-align: middle;\n",
       "    }\n",
       "\n",
       "    .dataframe tbody tr th {\n",
       "        vertical-align: top;\n",
       "    }\n",
       "\n",
       "    .dataframe thead th {\n",
       "        text-align: right;\n",
       "    }\n",
       "</style>\n",
       "<table border=\"1\" class=\"dataframe\">\n",
       "  <thead>\n",
       "    <tr style=\"text-align: right;\">\n",
       "      <th></th>\n",
       "      <th>status</th>\n",
       "    </tr>\n",
       "  </thead>\n",
       "  <tbody>\n",
       "    <tr>\n",
       "      <th>1</th>\n",
       "      <td>dataset generated</td>\n",
       "    </tr>\n",
       "    <tr>\n",
       "      <th>2</th>\n",
       "      <td>not enough points</td>\n",
       "    </tr>\n",
       "    <tr>\n",
       "      <th>3</th>\n",
       "      <td>dataset generated</td>\n",
       "    </tr>\n",
       "    <tr>\n",
       "      <th>4</th>\n",
       "      <td>no phenotype</td>\n",
       "    </tr>\n",
       "    <tr>\n",
       "      <th>5</th>\n",
       "      <td>dataset generated</td>\n",
       "    </tr>\n",
       "    <tr>\n",
       "      <th>...</th>\n",
       "      <td>...</td>\n",
       "    </tr>\n",
       "    <tr>\n",
       "      <th>7885</th>\n",
       "      <td>not accessible</td>\n",
       "    </tr>\n",
       "    <tr>\n",
       "      <th>7886</th>\n",
       "      <td>not accessible</td>\n",
       "    </tr>\n",
       "    <tr>\n",
       "      <th>7887</th>\n",
       "      <td>not accessible</td>\n",
       "    </tr>\n",
       "    <tr>\n",
       "      <th>7888</th>\n",
       "      <td>not accessible</td>\n",
       "    </tr>\n",
       "    <tr>\n",
       "      <th>7889</th>\n",
       "      <td>no raw data</td>\n",
       "    </tr>\n",
       "  </tbody>\n",
       "</table>\n",
       "<p>7889 rows × 1 columns</p>\n",
       "</div>"
      ],
      "text/plain": [
       "                 status\n",
       "1     dataset generated\n",
       "2     not enough points\n",
       "3     dataset generated\n",
       "4          no phenotype\n",
       "5     dataset generated\n",
       "...                 ...\n",
       "7885     not accessible\n",
       "7886     not accessible\n",
       "7887     not accessible\n",
       "7888     not accessible\n",
       "7889        no raw data\n",
       "\n",
       "[7889 rows x 1 columns]"
      ]
     },
     "execution_count": 2,
     "metadata": {},
     "output_type": "execute_result"
    }
   ],
   "source": [
    "# load the dict from json\n",
    "with open('../metabolightsbinarydatasets/studies_dict.json', 'r') as fp:\n",
    "    studies_dict = json.load(fp)\n",
    "\n",
    "# load file with the list of studise with m files but no raw data\n",
    "with open('../metabolightsbinarydatasets/studies_with_mfiles_but_no_raw_data.txt', 'rb') as fp:\n",
    "    lines = fp.readlines()\n",
    "    for id_str in [line.decode('utf-8').strip()[5:] for line in lines]:\n",
    "        studies_dict[id_str] = 'no raw data'\n",
    "\n",
    "# load file with the list of studies with data but not enough data points\n",
    "with open('../metabolightsbinarydatasets/studies_with_not_enough_data_points.txt', 'rb') as fp:\n",
    "    lines = fp.readlines()\n",
    "    for id_str in [line.decode('utf-8').strip()[5:] for line in lines]:\n",
    "        studies_dict[id_str] = 'not enough points'\n",
    "\n",
    "# load file with the list of studies with data but not enough data points\n",
    "with open('../metabolightsbinarydatasets/studies_with_no_phenotype_to_predict.txt', 'rb') as fp:\n",
    "    lines = fp.readlines()\n",
    "    for id_str in [line.decode('utf-8').strip()[5:] for line in lines]:\n",
    "        studies_dict[id_str] = 'no phenotype'\n",
    "\n",
    "\n",
    "# load file with the list of studies with data but not enough data points\n",
    "with open('../metabolightsbinarydatasets/studies_with_no_link_between_data_and_metadata.txt', 'rb') as fp:\n",
    "    lines = fp.readlines()\n",
    "    for id_str in [line.decode('utf-8').strip()[5:] for line in lines]:\n",
    "        studies_dict[id_str] = 'no link between data and metadata'\n",
    "\n",
    "metabolights_nb_of_studies = 7889\n",
    "all_studies = list(range(1, metabolights_nb_of_studies+1))\n",
    "\n",
    "studies_dict\n",
    "studies_df = pd.DataFrame(index=all_studies)\n",
    "studies_df['status'] = '?'\n",
    "for key in studies_dict.keys():\n",
    "    id = int(key)\n",
    "    studies_df.loc[id, 'status'] = studies_dict[key]\n",
    "\n",
    "studies_df"
   ]
  },
  {
   "cell_type": "code",
   "execution_count": 3,
   "metadata": {},
   "outputs": [
    {
     "name": "stdout",
     "output_type": "stream",
     "text": [
      "(835, 11)\n"
     ]
    }
   ],
   "source": [
    "# load the dict from json\n",
    "with open('../metabolightsbinarydatasets/datasets_description_dict.json', 'r') as fp:\n",
    "    datasets_dict = json.load(fp)\n",
    "\n",
    "datasets_df = pd.DataFrame(data=datasets_dict).T\n",
    "print(datasets_df.shape)"
   ]
  },
  {
   "cell_type": "code",
   "execution_count": 4,
   "metadata": {},
   "outputs": [
    {
     "data": {
      "text/plain": [
       "Index(['id', 'file', 'n samples', 'n features', 'metadata column', '1 label',\n",
       "       '0 label', 'Study Assay Technology Platform', 'affiliation',\n",
       "       'release date', 'organism'],\n",
       "      dtype='object')"
      ]
     },
     "execution_count": 4,
     "metadata": {},
     "output_type": "execute_result"
    }
   ],
   "source": [
    "datasets_df.columns"
   ]
  },
  {
   "cell_type": "code",
   "execution_count": null,
   "metadata": {},
   "outputs": [],
   "source": [
    "from config.config_local import results_dir_multivariate\n",
    "from utils.utils_figures import get_experiments_results_big_df, get_best_univariate_dict, generate_meta_df\n",
    "from utils.utils_figures import algo_to_col_dict\n",
    "\n",
    "#metric, metricnameinunivariate = 'f1_score', 'f1_avg'\n",
    "#metric, metricnameinunivariate = 'accuracy', 'accuracy_avg'\n",
    "metric, metricnameinunivariate = 'balancedaccuracy', 'balancedaccuracy_avg'\n",
    "#metric, metricnameinunivariate = 'mcc', 'mccscore_avg'\n",
    "\n",
    "big_perf_df_file = f'big_perf_df_{metric}.csv'\n",
    "if not os.path.exists(big_perf_df_file):\n",
    "    big_perf_df = get_experiments_results_big_df(result_dir=results_dir_multivariate, metric=metric, nb_of_splits=8)\n",
    "    big_perf_df.to_csv(f'big_perf_df_{metric}.csv')\n",
    "big_perf_df = pd.read_csv(f'big_perf_df_{metric}.csv', index_col=0)\n",
    "\n",
    "\n",
    "unique_datasets = big_perf_df['dataset'].unique()"
   ]
  },
  {
   "cell_type": "code",
   "execution_count": 6,
   "metadata": {},
   "outputs": [
    {
     "data": {
      "text/html": [
       "<div>\n",
       "<style scoped>\n",
       "    .dataframe tbody tr th:only-of-type {\n",
       "        vertical-align: middle;\n",
       "    }\n",
       "\n",
       "    .dataframe tbody tr th {\n",
       "        vertical-align: top;\n",
       "    }\n",
       "\n",
       "    .dataframe thead th {\n",
       "        text-align: right;\n",
       "    }\n",
       "</style>\n",
       "<table border=\"1\" class=\"dataframe\">\n",
       "  <thead>\n",
       "    <tr style=\"text-align: right;\">\n",
       "      <th></th>\n",
       "      <th>algo</th>\n",
       "      <th>score</th>\n",
       "      <th>metric</th>\n",
       "      <th>type</th>\n",
       "      <th>split</th>\n",
       "      <th>dataset</th>\n",
       "      <th>bayesian_optimization_trials</th>\n",
       "      <th>n_nonzero_features</th>\n",
       "      <th>n_nodes</th>\n",
       "      <th>best_feature_id</th>\n",
       "    </tr>\n",
       "  </thead>\n",
       "  <tbody>\n",
       "    <tr>\n",
       "      <th>0</th>\n",
       "      <td>XGBoost</td>\n",
       "      <td>0.5</td>\n",
       "      <td>balancedaccuracy</td>\n",
       "      <td>test</td>\n",
       "      <td>4</td>\n",
       "      <td>MTBLS413-CSFPOSmassspectrometryv2maf-Stage1HAT...</td>\n",
       "      <td>50</td>\n",
       "      <td>1</td>\n",
       "      <td>3.0</td>\n",
       "      <td>23.0</td>\n",
       "    </tr>\n",
       "    <tr>\n",
       "      <th>1</th>\n",
       "      <td>XGBoost</td>\n",
       "      <td>0.5</td>\n",
       "      <td>balancedaccuracy</td>\n",
       "      <td>train</td>\n",
       "      <td>4</td>\n",
       "      <td>MTBLS413-CSFPOSmassspectrometryv2maf-Stage1HAT...</td>\n",
       "      <td>50</td>\n",
       "      <td>1</td>\n",
       "      <td>3.0</td>\n",
       "      <td>23.0</td>\n",
       "    </tr>\n",
       "    <tr>\n",
       "      <th>2</th>\n",
       "      <td>GBtree</td>\n",
       "      <td>1.0</td>\n",
       "      <td>balancedaccuracy</td>\n",
       "      <td>test</td>\n",
       "      <td>4</td>\n",
       "      <td>MTBLS2015-MTBLS2015LCMSnegativehilicmetabolite...</td>\n",
       "      <td>50</td>\n",
       "      <td>73</td>\n",
       "      <td>310.0</td>\n",
       "      <td>61.0</td>\n",
       "    </tr>\n",
       "    <tr>\n",
       "      <th>3</th>\n",
       "      <td>GBtree</td>\n",
       "      <td>1.0</td>\n",
       "      <td>balancedaccuracy</td>\n",
       "      <td>train</td>\n",
       "      <td>4</td>\n",
       "      <td>MTBLS2015-MTBLS2015LCMSnegativehilicmetabolite...</td>\n",
       "      <td>50</td>\n",
       "      <td>73</td>\n",
       "      <td>310.0</td>\n",
       "      <td>61.0</td>\n",
       "    </tr>\n",
       "    <tr>\n",
       "      <th>4</th>\n",
       "      <td>SCMBoost</td>\n",
       "      <td>1.0</td>\n",
       "      <td>balancedaccuracy</td>\n",
       "      <td>test</td>\n",
       "      <td>4</td>\n",
       "      <td>MTBLS4013-MTBLS4013LCMSalternatingreversephase...</td>\n",
       "      <td>50</td>\n",
       "      <td>9</td>\n",
       "      <td>45.0</td>\n",
       "      <td>221.0</td>\n",
       "    </tr>\n",
       "    <tr>\n",
       "      <th>...</th>\n",
       "      <td>...</td>\n",
       "      <td>...</td>\n",
       "      <td>...</td>\n",
       "      <td>...</td>\n",
       "      <td>...</td>\n",
       "      <td>...</td>\n",
       "      <td>...</td>\n",
       "      <td>...</td>\n",
       "      <td>...</td>\n",
       "      <td>...</td>\n",
       "    </tr>\n",
       "    <tr>\n",
       "      <th>158567</th>\n",
       "      <td>GBtree</td>\n",
       "      <td>1.0</td>\n",
       "      <td>balancedaccuracy</td>\n",
       "      <td>train</td>\n",
       "      <td>3</td>\n",
       "      <td>MTBLS3233-MTBLS3233LCMSpositivereversephasemet...</td>\n",
       "      <td>50</td>\n",
       "      <td>58</td>\n",
       "      <td>453.0</td>\n",
       "      <td>8.0</td>\n",
       "    </tr>\n",
       "    <tr>\n",
       "      <th>158568</th>\n",
       "      <td>PLSDA</td>\n",
       "      <td>1.0</td>\n",
       "      <td>balancedaccuracy</td>\n",
       "      <td>test</td>\n",
       "      <td>3</td>\n",
       "      <td>MTBLS7623-MTBLS7623LCMSnegativereversephasemet...</td>\n",
       "      <td>50</td>\n",
       "      <td>131</td>\n",
       "      <td>131.0</td>\n",
       "      <td>21.0</td>\n",
       "    </tr>\n",
       "    <tr>\n",
       "      <th>158569</th>\n",
       "      <td>PLSDA</td>\n",
       "      <td>1.0</td>\n",
       "      <td>balancedaccuracy</td>\n",
       "      <td>train</td>\n",
       "      <td>3</td>\n",
       "      <td>MTBLS7623-MTBLS7623LCMSnegativereversephasemet...</td>\n",
       "      <td>50</td>\n",
       "      <td>131</td>\n",
       "      <td>131.0</td>\n",
       "      <td>21.0</td>\n",
       "    </tr>\n",
       "    <tr>\n",
       "      <th>158570</th>\n",
       "      <td>SVMrbf</td>\n",
       "      <td>0.8</td>\n",
       "      <td>balancedaccuracy</td>\n",
       "      <td>test</td>\n",
       "      <td>3</td>\n",
       "      <td>MTBLS2262-MTBLS2262LCMSpositivereversephasemet...</td>\n",
       "      <td>50</td>\n",
       "      <td>48</td>\n",
       "      <td>NaN</td>\n",
       "      <td>NaN</td>\n",
       "    </tr>\n",
       "    <tr>\n",
       "      <th>158571</th>\n",
       "      <td>SVMrbf</td>\n",
       "      <td>1.0</td>\n",
       "      <td>balancedaccuracy</td>\n",
       "      <td>train</td>\n",
       "      <td>3</td>\n",
       "      <td>MTBLS2262-MTBLS2262LCMSpositivereversephasemet...</td>\n",
       "      <td>50</td>\n",
       "      <td>48</td>\n",
       "      <td>NaN</td>\n",
       "      <td>NaN</td>\n",
       "    </tr>\n",
       "  </tbody>\n",
       "</table>\n",
       "<p>157824 rows × 10 columns</p>\n",
       "</div>"
      ],
      "text/plain": [
       "            algo  score            metric   type  split  \\\n",
       "0        XGBoost    0.5  balancedaccuracy   test      4   \n",
       "1        XGBoost    0.5  balancedaccuracy  train      4   \n",
       "2         GBtree    1.0  balancedaccuracy   test      4   \n",
       "3         GBtree    1.0  balancedaccuracy  train      4   \n",
       "4       SCMBoost    1.0  balancedaccuracy   test      4   \n",
       "...          ...    ...               ...    ...    ...   \n",
       "158567    GBtree    1.0  balancedaccuracy  train      3   \n",
       "158568     PLSDA    1.0  balancedaccuracy   test      3   \n",
       "158569     PLSDA    1.0  balancedaccuracy  train      3   \n",
       "158570    SVMrbf    0.8  balancedaccuracy   test      3   \n",
       "158571    SVMrbf    1.0  balancedaccuracy  train      3   \n",
       "\n",
       "                                                  dataset  \\\n",
       "0       MTBLS413-CSFPOSmassspectrometryv2maf-Stage1HAT...   \n",
       "1       MTBLS413-CSFPOSmassspectrometryv2maf-Stage1HAT...   \n",
       "2       MTBLS2015-MTBLS2015LCMSnegativehilicmetabolite...   \n",
       "3       MTBLS2015-MTBLS2015LCMSnegativehilicmetabolite...   \n",
       "4       MTBLS4013-MTBLS4013LCMSalternatingreversephase...   \n",
       "...                                                   ...   \n",
       "158567  MTBLS3233-MTBLS3233LCMSpositivereversephasemet...   \n",
       "158568  MTBLS7623-MTBLS7623LCMSnegativereversephasemet...   \n",
       "158569  MTBLS7623-MTBLS7623LCMSnegativereversephasemet...   \n",
       "158570  MTBLS2262-MTBLS2262LCMSpositivereversephasemet...   \n",
       "158571  MTBLS2262-MTBLS2262LCMSpositivereversephasemet...   \n",
       "\n",
       "        bayesian_optimization_trials  n_nonzero_features  n_nodes  \\\n",
       "0                                 50                   1      3.0   \n",
       "1                                 50                   1      3.0   \n",
       "2                                 50                  73    310.0   \n",
       "3                                 50                  73    310.0   \n",
       "4                                 50                   9     45.0   \n",
       "...                              ...                 ...      ...   \n",
       "158567                            50                  58    453.0   \n",
       "158568                            50                 131    131.0   \n",
       "158569                            50                 131    131.0   \n",
       "158570                            50                  48      NaN   \n",
       "158571                            50                  48      NaN   \n",
       "\n",
       "        best_feature_id  \n",
       "0                  23.0  \n",
       "1                  23.0  \n",
       "2                  61.0  \n",
       "3                  61.0  \n",
       "4                 221.0  \n",
       "...                 ...  \n",
       "158567              8.0  \n",
       "158568             21.0  \n",
       "158569             21.0  \n",
       "158570              NaN  \n",
       "158571              NaN  \n",
       "\n",
       "[157824 rows x 10 columns]"
      ]
     },
     "execution_count": 6,
     "metadata": {},
     "output_type": "execute_result"
    }
   ],
   "source": [
    "big_perf_df"
   ]
  },
  {
   "cell_type": "code",
   "execution_count": 7,
   "metadata": {},
   "outputs": [
    {
     "data": {
      "text/plain": [
       "metric\n",
       "balancedaccuracy    157824\n",
       "Name: count, dtype: int64"
      ]
     },
     "execution_count": 7,
     "metadata": {},
     "output_type": "execute_result"
    }
   ],
   "source": [
    "\n",
    "# replace 'balanced_accuracy' by 'balancedaccuracy'\n",
    "big_perf_df['metric'] = big_perf_df['metric'].apply(lambda x: 'balancedaccuracy' if x == 'balanced_accuracy' else x)\n",
    "\n",
    "big_perf_df['metric'].value_counts()"
   ]
  },
  {
   "cell_type": "code",
   "execution_count": 8,
   "metadata": {},
   "outputs": [],
   "source": [
    "best_univariate_dict = get_best_univariate_dict(datasets_names=unique_datasets, metric=metricnameinunivariate)"
   ]
  },
  {
   "cell_type": "code",
   "execution_count": 9,
   "metadata": {},
   "outputs": [
    {
     "data": {
      "text/plain": [
       "algo                             object\n",
       "score                           float64\n",
       "metric                           object\n",
       "type                             object\n",
       "split                             int64\n",
       "dataset                          object\n",
       "bayesian_optimization_trials      int64\n",
       "n_nonzero_features                int64\n",
       "n_nodes                         float64\n",
       "best_feature_id                 float64\n",
       "dtype: object"
      ]
     },
     "execution_count": 9,
     "metadata": {},
     "output_type": "execute_result"
    }
   ],
   "source": [
    "big_perf_df.dtypes"
   ]
  },
  {
   "cell_type": "code",
   "execution_count": 10,
   "metadata": {},
   "outputs": [],
   "source": [
    "scores_df = big_perf_df[big_perf_df['metric'] == metric]\n",
    "scores_df = scores_df[scores_df['type'] == 'test']\n",
    "# restrict to score, algo and dataset columns\n",
    "scores_df = scores_df[['score', 'algo', 'dataset']]\n",
    "\n",
    "datasets_to_algo_df = scores_df.groupby(['dataset', 'algo']).mean().reset_index()\n"
   ]
  },
  {
   "cell_type": "code",
   "execution_count": 11,
   "metadata": {},
   "outputs": [
    {
     "name": "stdout",
     "output_type": "stream",
     "text": [
      "['AdaBoost', 'DT', 'ElasticNet', 'GBtree', 'PLSDA', 'RF', 'SCMBoost', 'SVMlinear', 'SVMrbf', 'XGBoost', 'rSCM', 'SCM']\n",
      "MTBLS1-metaboliteprofilingNMRspectroscopyv2maf-diabetesmellitus-Control 0\n",
      "algos missing ['AdaBoost', 'DT', 'ElasticNet', 'GBtree', 'PLSDA', 'RF', 'SCMBoost', 'SVMlinear', 'SVMrbf', 'XGBoost', 'rSCM', 'SCM']\n",
      "MTBLS1-mtbl1rmsmetaboliteprofilingNMRspectroscopyv2maf-diabetesmellitus-Control 0\n",
      "algos missing ['AdaBoost', 'DT', 'ElasticNet', 'GBtree', 'PLSDA', 'RF', 'SCMBoost', 'SVMlinear', 'SVMrbf', 'XGBoost', 'rSCM', 'SCM']\n",
      "MTBLS3-mtbl3metaboliteprofilingmassspectrometryv2maf-geneknockoutDelta9-wildtypegeneric 0\n",
      "algos missing ['AdaBoost', 'DT', 'ElasticNet', 'GBtree', 'PLSDA', 'RF', 'SCMBoost', 'SVMlinear', 'SVMrbf', 'XGBoost', 'rSCM', 'SCM']\n",
      "MTBLS66-GCmetaboliteprofilingmassspectrometryv2maf-NZelitebreedingpool-othercultivars 9\n",
      "algos missing ['PLSDA', 'SCMBoost', 'SVMrbf']\n"
     ]
    }
   ],
   "source": [
    "datasets_to_algo_df\n",
    "# count nans in score column\n",
    "\n",
    "n_algo_list = []\n",
    "algos_occurences = []\n",
    "all_algos = list(datasets_to_algo_df['algo'].unique())\n",
    "print(all_algos)\n",
    "\n",
    "for dataset_name in list(datasets_df.index):\n",
    "    loc_df = datasets_to_algo_df[datasets_to_algo_df['dataset'] == dataset_name]\n",
    "    n_algos = loc_df.shape[0]\n",
    "    n_algo_list.append(n_algos)\n",
    "    algos_occurences.extend(list(loc_df['algo']))\n",
    "    if n_algos < 10:\n",
    "        print(dataset_name, n_algos)\n",
    "        print('algos missing', [a for a in all_algos if a not in list(loc_df['algo'])])\n"
   ]
  },
  {
   "cell_type": "code",
   "execution_count": 12,
   "metadata": {},
   "outputs": [
    {
     "name": "stdout",
     "output_type": "stream",
     "text": [
      "total datasets: 835\n"
     ]
    },
    {
     "data": {
      "text/plain": [
       "Text(0.5, 1.0, 'Number of algorithms per dataset')"
      ]
     },
     "execution_count": 12,
     "metadata": {},
     "output_type": "execute_result"
    },
    {
     "data": {
      "image/png": "[encoded data removed]",
      "text/plain": [
       "<Figure size 1000x500 with 1 Axes>"
      ]
     },
     "metadata": {},
     "output_type": "display_data"
    }
   ],
   "source": [
    "# bar plot of the number of algorithms per dataset\n",
    "plt.figure(figsize=(10, 5))\n",
    "# count occurences of each number in the list\n",
    "x, y = [], []\n",
    "for i in range(13):\n",
    "    x.append(i)\n",
    "    y.append(n_algo_list.count(i))\n",
    "\n",
    "print('total datasets:', sum(y))\n",
    "\n",
    "sns.barplot(x=x, y=y)\n",
    "plt.xlabel('Number of algorithms')\n",
    "plt.ylabel('Number of datasets')\n",
    "plt.title('Number of algorithms per dataset')"
   ]
  },
  {
   "cell_type": "code",
   "execution_count": 13,
   "metadata": {},
   "outputs": [
    {
     "name": "stdout",
     "output_type": "stream",
     "text": [
      "ElasticNet 832\n",
      "PLSDA 794\n",
      "SVMlinear 832\n",
      "SVMrbf 831\n",
      "AdaBoost 832\n",
      "SCMBoost 767\n",
      "GBtree 830\n",
      "XGBoost 831\n",
      "DT 832\n",
      "RF 832\n",
      "SCM 819\n",
      "rSCM 832\n"
     ]
    },
    {
     "data": {
      "text/plain": [
       "Text(0.5, 1.0, 'Number of datasets succesfully runned for each algorithm')"
      ]
     },
     "execution_count": 13,
     "metadata": {},
     "output_type": "execute_result"
    },
    {
     "data": {
      "image/png": "[encoded data removed]",
      "text/plain": [
       "<Figure size 1000x500 with 1 Axes>"
      ]
     },
     "metadata": {},
     "output_type": "display_data"
    }
   ],
   "source": [
    "x, y = [], []\n",
    "for algo in algo_to_col_dict.keys():\n",
    "    print(algo, algos_occurences.count(algo))\n",
    "    x.append(algo)\n",
    "    y.append(algos_occurences.count(algo))\n",
    "\n",
    "plt.figure(figsize=(10, 5))\n",
    "sns.barplot(x=x, y=y, hue=x, palette=algo_to_col_dict)\n",
    "plt.xlabel('Algorithm')\n",
    "plt.ylabel('Number of datasets successfully runned')\n",
    "plt.title('Number of datasets succesfully runned for each algorithm')"
   ]
  },
  {
   "cell_type": "code",
   "execution_count": 14,
   "metadata": {},
   "outputs": [],
   "source": [
    "meta_df = generate_meta_df(big_perf_df, best_univariate_dict, datasets_df, metric)"
   ]
  },
  {
   "cell_type": "code",
   "execution_count": 15,
   "metadata": {},
   "outputs": [
    {
     "name": "stdout",
     "output_type": "stream",
     "text": [
      "algorithms training\n",
      "done      832\n",
      "failed      3\n",
      "Name: count, dtype: int64\n"
     ]
    }
   ],
   "source": [
    "# keep only the datasets with occurence in the big_perf_df\n",
    "datasets_df['algorithms training'] = ['done' if dataset in unique_datasets else 'failed' for dataset in datasets_df.index]\n",
    "print(datasets_df['algorithms training'].value_counts())\n",
    "# keep only the datasets with occurence in the big_perf_df\n",
    "datasets_df = datasets_df[datasets_df.index.isin(unique_datasets)]"
   ]
  },
  {
   "cell_type": "code",
   "execution_count": 16,
   "metadata": {},
   "outputs": [
    {
     "name": "stdout",
     "output_type": "stream",
     "text": [
      "Pagasus 4D GC-MS (LECO)\n",
      "Liquid Chromatography MS - Positive (LC-MS (POS))\n",
      "Gas Chromatography MS - Positive (GC-MS (Positive))\n"
     ]
    }
   ],
   "source": [
    "# add technique category column\n",
    "meta_df['technique category'] = '?'\n",
    "\n",
    "technique_category_dict = {\n",
    "    'NMR':                                                  'NMR',\n",
    "    'Nuclear Magnetic Resonance (NMR) -':                   'NMR',\n",
    "    'NMR spectroscopy':                                     'NMR',\n",
    "    'LCMS':                                                 'LCMS',\n",
    "    'LC-MS':                                                'LCMS',\n",
    "    'Q Exactive':                                           'LCMS',\n",
    "    'QExactive (Thermo Scientific)':                        'LCMS',\n",
    "    'Liquid Chromatography MS - negative - reverse phase':  'LCMS',\n",
    "    'Liquid Chromatography MS - positive - reverse phase':  'LCMS',\n",
    "    'API 4000 QTRAP (AB Sciex)':                            'LCMS',\n",
    "    'Orbitrap Elite (Thermo Scientific)':                   'LCMS',\n",
    "    'Agilent 7200 Accurate-Mass Q-TOF'  :                   'LCMS',\n",
    "    'GC-MS':                                                'GCMS',\n",
    "    'DSQ II Single Quadrupole GC/MS (Thermo Scientific)':   'GCMS',\n",
    "    'Liquid Chromatography MS - negative - hilic':          'LCMS',\n",
    "    'Liquid Chromatography MS - positive - hilic':          'LCMS',\n",
    "    'Liquid Chromatography MS - negative':                  'LCMS',\n",
    "    'Liquid Chromatography MS - positive':                  'LCMS',\n",
    "    'Liquid Chromatography MS'  :                           'LCMS',\n",
    "    'Liquid Chromatography MS - Positive (LC-MS (Positive))' : 'LCMS',\n",
    "    'Liquid Chromatography MS - alternating - reverse phase': 'LCMS',\n",
    "    'Liquid Chromatography MS - Negative (LC-MS (Negative))': 'LCMS',\n",
    "    'Liquid Chromatography MS - Alternating (LC-MS (Alternating))': 'LCMS',\n",
    "    'Liquid Chromatography MS - alternating' :             'LCMS',\n",
    "    'LC-MS (Alternating)' :                                'LCMS',\n",
    "    'Liquid Chromatography MS - negative - hilic' :          'LCMS',\n",
    "    'Liquid Chromatography MS - negative - hilic     ':  'LCMS',\n",
    "    'Liquid Chromatography MS - reverse phase' :          'LCMS',\n",
    "    'Liquid Chromatography Tandem MS (LC-MS/MS)':        'LCMS',\n",
    "    '6540 Q-TOF LC/MS (Agilent)':                          'LCMS',\n",
    "    'Liquid Chromatography MS - POS - HILIC':              'LCMS',\n",
    "    'Liquid Chromatography MS - alternating - hilic':       'LCMS',\n",
    "    'Nuclear Magnetic Resonance (NMR)':                      'NMR',\n",
    "    'Gas Chromatography MS - positive':                      'GCMS',\n",
    "    'Gas Chromatography MS - negative':                      'GCMS',\n",
    "    'Gas Chromatography MS':                                'GCMS',\n",
    "    'GCMS':                                                 'GCMS',\n",
    "    'Direct infusion MS - positive':                         'DIMS',\n",
    "    'Direct infusion MS - negative':                         'DIMS',\n",
    "    'Direct infusion MS':                                   'DIMS',\n",
    "    'Agilent 6890 GC - LECO Pegasus III TOF MS (LECO)':\t'GCMS',\n",
    "    'UPLC Q-TOF Premier (Waters)':\t'LCMS',\n",
    "    'Bruker':\t'other',\n",
    "    'GCT Premier (Waters)':\t'GCMS',\n",
    "    'Xevo QTof MS (Waters)':\t'LCMS',\n",
    "    'Quattro micro API (Waters)':\t'LCMS',\n",
    "    'LTQ Orbitrap Velos (Thermo Scientific)':\t'LCMS',\n",
    "    'Bruker Esquire 6000':\t'LCMS',\n",
    "    'Leco Pegasus III':\t'GCMS',\n",
    "    'Bruker Daltonics esquire 3000':\t'LCMS',\n",
    "    'Acquity UPLC PDA':\t'other', #LC\n",
    "    'DSQ II Trace Ultra (Thermo Scientific)':\t'GCMS',\n",
    "    '5975C Series GC/MSD (Agilent)':\t'GCMS',\n",
    "    'Xevo G2 QTOF (Waters)':\t'LCMS',\n",
    "    'Q-Tof Premier (Waters)':\t'LCMS',\n",
    "    'UHPLC system (1290 Agilent)':\t'other', #LC\n",
    "    'Varian':\t'other',\n",
    "    'LTQ Orbitrap Classic (Thermo Scientific)':\t'LCMS',\n",
    "    'Thermo Scientific LTQ FT Ultra':\t'LCMS',\n",
    "    'Exactive (Thermo Scientific)':\t'LCMS',\n",
    "    'Agilent 6890 GC/5973N MSD':\t'GCMS',\n",
    "    'Quattro Premier XE (Waters)':\t'LCMS',\n",
    "    'Pagasus 4D GCMS (LECO)':\t'GCMS',\n",
    "    'LECO Pegasus III':\t'GCMS',\n",
    "    '6490 Triple Quadrupole LC/MS (Agilent)':\t'LCMS',\n",
    "    'QTof Micro (Micromass)':\t'LCMS',\n",
    "    'Acquity UPLC - 6530 QToF':\t'LCMS',\n",
    "    'Xevo TQ MS':\t'LCMS',\n",
    "    'TSQ Quantum XLS (Thermo Scientific)': \t'LCMS',\n",
    "    'Agilent 5975E GC/MSD (Agilent)':\t'GCMS',\n",
    "    'GCxGC-TOFMS (LECO Pegasus 4D)':\t'GCMS',\n",
    "    'UPLC-QTOFMS (Waters QTOF Premier)':\t'LCMS',\n",
    "    'QExactive GC (Thermo Scientific)':\t'GCMS',\n",
    "    '6210 TOF LC/MS (Agilent)':\t'LCMS',\n",
    "    'GC-TOF-MS':\t'GCMS',\n",
    "    'TSQ Vantage (Thermo Scientific)':\t'LCMS',\n",
    "    'maXis (Bruker)':\t'LCMS',\n",
    "    'Compact™ QTOF-MS (Bruker)':\t'LCMS',\n",
    "    '6230 TOF LC/MS (Agilent)':\t'LCMS',\n",
    "    'Xevo TQ MS (Waters)':\t'LCMS',\n",
    "    'maXis G4 (Bruker)':\t'LCMS',\n",
    "    'TripleTOF 6600, AB Sciex':\t'LCMS',\n",
    "    'Pegasus 4D GCxGC-TOFMS':\t'GCMS',\n",
    "    'Matrix-assisted laser desorption-ionisation imaging MS':\t'other', #MALDI-MS\n",
    "    'Liquid Chromatography MS - Positive (LCMS (POS))':\t'LCMS',\n",
    "    'Gas Chromatography MS - Positive (GCMS (Positive))':\t'GCMS',\n",
    "    'UHPLC-Q-TOF-MS':\t'LCMS',\n",
    "    'micrOTOF-Q II ESI-Qq-TOF (Bruker)':\t'LCMS',\n",
    "    'Diode array detection MS - positive - reverse phase':\t'LCMS',\n",
    "    'Liquid Chromatography MS - NEG - reverse phase':\t'LCMS',\n",
    "    'GC-(triple quadrupole)MS, TQ8040, Shimadzu':\t'GCMS',\n",
    "    'Liquid Chromatography MS - negative - direct infusion':\t'LCMS',\n",
    "    'UHPLC-DAD-HR-MS/MS':\t'LCMS',\n",
    "    'Flow injection analysis MS - negative':\t'other', #'MS',\n",
    "    'Flow injection analysis MS - positive':\t'other', #'MS',\n",
    "    'Flame ionisation detector MS':\t'GCMS',\n",
    "    'Tandem Gas Chromatography MS':\t'GCMS',\n",
    "    'Flame ionisation detector MS - positive':\t'GCMS',\n",
    "}\n",
    "\n",
    "not_categorised_techniques = []\n",
    "\n",
    "for id in meta_df.index:   \n",
    "    technique = meta_df.loc[id, 'Study Assay Technology Platform']\n",
    "    category = '?'\n",
    "    if technique in technique_category_dict:\n",
    "        category = technique_category_dict[technique]\n",
    "    else:\n",
    "        if technique in not_categorised_techniques:\n",
    "            continue\n",
    "        else:\n",
    "            print(technique)\n",
    "            not_categorised_techniques.append(technique)\n",
    "\n",
    "    meta_df.loc[id, 'technique category'] = category"
   ]
  },
  {
   "cell_type": "code",
   "execution_count": 17,
   "metadata": {},
   "outputs": [
    {
     "name": "stderr",
     "output_type": "stream",
     "text": [
      "/tmp/ipykernel_18095/2917973543.py:2: FutureWarning: A value is trying to be set on a copy of a DataFrame or Series through chained assignment using an inplace method.\n",
      "The behavior will change in pandas 3.0. This inplace method will never work because the intermediate object on which we are setting values always behaves as a copy.\n",
      "\n",
      "For example, when doing 'df[col].method(value, inplace=True)', try using 'df.method({col: value}, inplace=True)' or df[col] = df[col].method(value) instead, to perform the operation inplace on the original object.\n",
      "\n",
      "\n",
      "  meta_df['organism'].fillna('?', inplace=True)\n"
     ]
    }
   ],
   "source": [
    "# add organism curated column\n",
    "meta_df['organism'].fillna('?', inplace=True)\n",
    "\n",
    "curated_organism_list = []\n",
    "\n",
    "organism_curated_dict = {\n",
    "    'Homo sapiens'              : 'Homo sapiens',\n",
    "    'Mus musculus'              : 'Mus musculus',\n",
    "    'Vitis vinifera'            : 'Plants',\n",
    "    'Rattus norvegicus'         : 'Rattus norvegicus',\n",
    "    'multiple'                  : 'multiple',\n",
    "    'Arabidopsis thaliana'      : 'Plants',\n",
    "    'Lolium perenne'            : 'Plants',\n",
    "    'Streptococcus pyogenes'    : 'Streptococcus pyogenes',\n",
    "    'Streptococcus pneumoniae'  : 'Streptococcus pneumoniae',\n",
    "    'Rattus norvegicus'         : 'other mammals',\n",
    "    'Bos taurus'                : 'other mammals',\n",
    "    'Canis lupus familiaris'    : 'other mammals',\n",
    "    'Canis lupus'               : 'other mammals',\n",
    "    'Oryctolagus cuniculus'     : 'other mammals',\n",
    "    'Sus scrofa'                : 'other mammals',\n",
    "    'Sus scrofa domesticus'     : 'other mammals',\n",
    "    'Felis catus'               : 'other mammals',\n",
    "    'Ovis aries'                : 'other mammals',\n",
    "    'Tursiops truncatus'        : 'other mammals',\n",
    "    'Rattus rattus'             : 'other mammals',\n",
    "    'Chlorocebus aethiops'      : 'other mammals',\n",
    "    'Macaca fascicularis'       : 'other mammals',\n",
    "    'sea water'                 : 'multiple',\n",
    "    'multiple (Espeletia)'      : 'multiple',\n",
    "    'multiple (gut)'            : 'multiple',\n",
    "    'Oncorhynchus mykiss + Dicentrarchus labrax' : 'multiple',\n",
    "    'Eubacterium rectale + Streptococcus salivarius' : 'multiple',\n",
    "    'Prochlorococcus marinus + Synechococcus' : 'multiple',\n",
    "    'Populus tremula x Populus alba' : 'multiple',\n",
    "    'consortium SDC-9'          : 'multiple',\n",
    "    'marine plankton environmental sample' : 'multiple',\n",
    "    'Solanum lycopersicum x Solanum pennellii' : 'multiple',\n",
    "    'Homo sapiens + Chlorocebus aethiops' : 'multiple',\n",
    "    'environment'               : 'multiple',\n",
    "    'microbial community'       : 'multiple',\n",
    "    'Lolium perenne'            : 'Plants',\n",
    "    'Oryza sativa'              : 'Plants',\n",
    "    'Camellia sinensis'         : 'Plants',\n",
    "    'Triticum aestivum'         : 'Plants',\n",
    "    'Hordeum vulgare'           : 'Plants',\n",
    "    'Espeletia'                 : 'Plants',\n",
    "    'Solanum lycopersicum'      : 'Plants',\n",
    "    'Brassica napus'            : 'Plants',\n",
    "    'Cichorium intybus'         : 'Plants',\n",
    "    'Smallanthus sonchifolius'  : 'Plants',\n",
    "    'Brassica rapa'             : 'Plants',\n",
    "    'Avena sativa'              : 'Plants',\n",
    "    'Ficus deltoidea'           : 'Plants',\n",
    "    'Prunus avium'              : 'Plants',\n",
    "    'Vitis labrusca'            : 'Plants',\n",
    "    'Cryptomeria japonica'      : 'Plants',\n",
    "    'Lotus japonicus'           : 'Plants',\n",
    "    'Pisum sativum'             : 'Plants',\n",
    "    'Arabidopsis lyrata'        : 'Plants',\n",
    "    'Hyacinthoides non-scripta' : 'Plants',\n",
    "    'Brassica oleracea'         : 'Plants',\n",
    "    'Lemna paucicostata'        : 'Plants',\n",
    "    'Gomphrena'                 : 'Plants',\n",
    "    'Cryptomeria'               : 'Plants',\n",
    "    'Ribes nigrum'              : 'Plants',\n",
    "    'Escherichia coli'          : 'Bacteria',\n",
    "    'Streptomyces clavuligerus' : 'Bacteria',\n",
    "    'Pseudomonas putida'        : 'Bacteria',\n",
    "    'Klebsiella pneumoniae'     : 'Bacteria',\n",
    "    'Staphylococcus aureus'     : 'Bacteria',\n",
    "    'Microcystis aeruginosa'    : 'Bacteria',\n",
    "    'Enterococcus faecalis'     : 'Bacteria',\n",
    "    'Pseudomonas aeruginosa'    : 'Bacteria',\n",
    "    'Mycobacterium tuberculosis': 'Bacteria',\n",
    "    'Synechococcus elongatus'   : 'Bacteria',\n",
    "    'Prochlorococcus'           : 'Bacteria',\n",
    "    'Ruegeria pomeroyi'         : 'Bacteria',\n",
    "    'Streptococcus pneumoniae'  : 'Bacteria',\n",
    "    'Streptococcus pyogenes'    : 'Bacteria',\n",
    "    'Dicentrarchus labrax'      : 'other or unknown',  #'fish',\n",
    "    'Salmo salar'               : 'other or unknown',  #'fish',\n",
    "    'Danio rerio'               : 'other or unknown',  #'fish',\n",
    "    'Bombyx mori'               : 'other or unknown',  #'arthropods',\n",
    "    'Ixodes scapularis'         : 'other or unknown',  #'arthropods',\n",
    "    'Tribolium castaneum'       : 'other or unknown',  #'arthropods',\n",
    "    'Bombus terrestris'         : 'other or unknown',  #'arthropods',\n",
    "    'Drosophila melanogaster'   : 'other or unknown',  #'arthropods',\n",
    "    'Gallus gallus'             : 'other or unknown',\n",
    "    'Caenorhabditis elegans'    : 'other or unknown',\n",
    "    'Euglena gracilis'          : 'other or unknown',\n",
    "    'Thalassiosira pseudonana'  : 'other or unknown',\n",
    "    'Chlamydomonas reinhardtii' : 'other or unknown',\n",
    "    'Aspergillus fumigatus'     : 'other or unknown',\n",
    "    '?'                         : 'other or unknown',\n",
    "}\n",
    "\n",
    "for o in meta_df['organism']:\n",
    "    if o in organism_curated_dict:\n",
    "        curated_organism_list.append(organism_curated_dict[o])\n",
    "    else:\n",
    "        raise ValueError('organism not curated:', o)\n",
    "\n",
    "meta_df['organism curated'] = curated_organism_list\n",
    "common_organisms = meta_df['organism curated'].value_counts()\n",
    "untreated_organisms = {k:v for k,v in common_organisms.items() if k not in organism_curated_dict.values()}\n",
    "for k,v in untreated_organisms.items():\n",
    "    print(k)\n"
   ]
  },
  {
   "cell_type": "code",
   "execution_count": 18,
   "metadata": {},
   "outputs": [],
   "source": [
    "organism_curated_to_category_dict = {\n",
    "    'Plants'                    : 'plants',\n",
    "    'other mammals'             : 'mammals',\n",
    "    'Bacteria'                  : 'Bacteria',\n",
    "    'Homo sapiens'              : 'Homo sapiens',\n",
    "    'Mus musculus'              : 'Mus musculus',\n",
    "    'other or unknown'          : 'other or unknown',\n",
    "    'multiple'                  : 'other or unknown',\n",
    "    'fish'                      : 'other or unknown',\n",
    "    'arthropods'                : 'other or unknown',\n",
    "}\n",
    "\n",
    "# add organism category column\n",
    "organism_category_list = []\n",
    "\n",
    "for o in meta_df['organism curated']:\n",
    "    if o in organism_curated_to_category_dict:\n",
    "        organism_category_list.append(organism_curated_to_category_dict[o])\n",
    "    else:\n",
    "        raise ValueError('not categorised organism', o)\n",
    "\n",
    "meta_df['organism category'] = organism_category_list"
   ]
  },
  {
   "cell_type": "code",
   "execution_count": 19,
   "metadata": {},
   "outputs": [
    {
     "name": "stdout",
     "output_type": "stream",
     "text": [
      "(835, 28) (835, 2)\n"
     ]
    }
   ],
   "source": [
    "# add PCA projection of the embeddings of phenotypes descriptions\n",
    "# run embeddings_phenotypes.py if the file is not yet generated\n",
    "\n",
    "from sklearn.decomposition import PCA\n",
    "clustering_method = 'PCA'\n",
    "\n",
    "embeddings_data_path = os.path.join('results', 'other_results')\n",
    "if f\"embeddings.csv\" not in os.listdir(embeddings_data_path):\n",
    "    raise FileNotFoundError(f\"embeddings.csv not found, run the embeddings_phenotypes.py script to generate it\")\n",
    "else:\n",
    "    embedding_df = pd.read_csv(os.path.join(embeddings_data_path, f\"embeddings.csv\"), index_col=0)\n",
    "\n",
    "index_to_combined_dict = {i: c.lower() for i, c in zip(embedding_df.index, embedding_df['combined'])}\n",
    "meta_df['phenotype description combined'] = index_to_combined_dict\n",
    "\n",
    "embedding_df[\"embedding\"] = embedding_df[\"embedding\"].apply(lambda x: eval(x))\n",
    "X = np.array([np.array(x) for x in embedding_df[\"embedding\"]])\n",
    "X_embedded = PCA(n_components=2).fit_transform(X)\n",
    "title_clustering = \"clustered with: PCA\"\n",
    "\n",
    "embedding_df['embeddings_PC0'] = X_embedded[:, 0]\n",
    "embedding_df['embeddings_PC1'] = X_embedded[:, 1]\n",
    "\n",
    "embedding_df = embedding_df[['embeddings_PC0', 'embeddings_PC1']]\n",
    "# merge the two dataframes\n",
    "print(meta_df.shape, embedding_df.shape)\n",
    "# assert that the two dataframes have the same index\n",
    "meta_df = meta_df.sort_index()\n",
    "embedding_df = embedding_df.sort_index()\n",
    "assert meta_df.index.all() == embedding_df.index.all()\n",
    "meta_df = pd.merge(meta_df, embedding_df, left_index=True, right_index=True)\n",
    "# assert the combined column is the same\n",
    "#assert meta_df['phenotype description combined'].all() == embedding_df['combined'].all()"
   ]
  },
  {
   "cell_type": "code",
   "execution_count": 20,
   "metadata": {},
   "outputs": [],
   "source": [
    "# sort alphabetically the dataframe by the index\n",
    "meta_df = meta_df.sort_index()\n",
    "embedding_df = embedding_df.sort_index()\n",
    "\n",
    "for a,b in zip(list(meta_df.index), list(embedding_df.index)):\n",
    "    if a != b:\n",
    "        print(a,b)"
   ]
  },
  {
   "cell_type": "code",
   "execution_count": 21,
   "metadata": {},
   "outputs": [
    {
     "data": {
      "image/png": "[encoded data removed]",
      "text/plain": [
       "<Figure size 1000x600 with 1 Axes>"
      ]
     },
     "metadata": {},
     "output_type": "display_data"
    }
   ],
   "source": [
    "# keyword column\n",
    "\n",
    "meta_df['phenotype description combined'] = meta_df['phenotype description combined'].str.lower()\n",
    "meta_df['phenotype description combined'] = meta_df['phenotype description combined'].str.replace(':', ' ')\n",
    "meta_df['phenotype description combined'] = meta_df['phenotype description combined'].str.replace(',', ' ')\n",
    "\n",
    "keywords_list = ['cancer', 'cultivar', 'variety', 'location', 'disease', 'genotype', 'mutation',\n",
    "                  'mutant', 'treatment', 'diet', 'infection', 'syndrome', 'birth', 'strain', 'copd', 'age', 'fasting']\n",
    "\n",
    "keywords_convertion_dict = {\n",
    "    'genotype'  : 'mutation',\n",
    "    'mutation'  : 'mutation',\n",
    "    'mutant'    : 'mutation',\n",
    "    'infection' : 'disease',\n",
    "    'syndrome'  : 'disease',\n",
    "    'variety'   : 'cultivar',\n",
    "    'strain'    : 'mutation',\n",
    "    'copd'      : 'disease',\n",
    "    'fasting'   : 'diet',\n",
    "}\n",
    "\n",
    "keywords_col = []\n",
    "full_words_list = []\n",
    "\n",
    "\n",
    "\n",
    "for d in meta_df['phenotype description combined']:\n",
    "    loc_keyword = []\n",
    "    words_in_d = d.split()\n",
    "    selected_keyword = ''\n",
    "    #if 'kimchi' in words_in_d:\n",
    "    #    print(d)\n",
    "    for keyword in keywords_list:\n",
    "        if keyword in words_in_d:\n",
    "            loc_keyword.append(keyword)\n",
    "    if len(loc_keyword) > 1:\n",
    "        # convert keywords\n",
    "        loc_keyword = [keywords_convertion_dict[k] if k in keywords_convertion_dict else k for k in loc_keyword]\n",
    "        if len(set(loc_keyword)) == 1:\n",
    "            selected_keyword = loc_keyword[0]\n",
    "        elif set(loc_keyword) == {'cancer', 'disease'}:\n",
    "            selected_keyword = 'cancer'\n",
    "        elif set(loc_keyword) == {'treatment', 'diet'}:\n",
    "            selected_keyword = 'diet'\n",
    "        elif set(loc_keyword) == {'birth', 'age'}:\n",
    "            selected_keyword = 'birth'\n",
    "        else:\n",
    "            print(d, loc_keyword)\n",
    "        #print(d, loc_keyword)\n",
    "    elif len(loc_keyword) == 1:\n",
    "        if loc_keyword[0] in keywords_convertion_dict:\n",
    "            selected_keyword = keywords_convertion_dict[loc_keyword[0]]\n",
    "        else:\n",
    "            selected_keyword = loc_keyword[0]\n",
    "    else:\n",
    "        selected_keyword = 'other'\n",
    "        #print(d)\n",
    "    unique_words = list(set(words_in_d))\n",
    "    full_words_list.extend(unique_words)\n",
    "    keywords_col.append(selected_keyword)\n",
    "\n",
    "meta_df['phenotype keyword'] = keywords_col\n",
    "\n",
    "# remove words that are in the keywords_list\n",
    "#full_words_list = [w for w in full_words_list if w not in keywords_list]\n",
    "\n",
    "not_relevant_words = ['phenotype', 'description', 'values', 'healthy', 'cohort', 'with', 'of', 'or', 'no', 'yes', '0', '1', '2', '3', '+', 'stage',\n",
    "                         'description', 'control', 'group', 'type', 'status', 'media', 'study', 'sample', 'hat', 'growth', 'pooled', 'sera',\n",
    "                         'organism', 'time', 'rpmi', 'kimchi']\n",
    "full_words_list = [w for w in full_words_list if w not in not_relevant_words]\n",
    "\n",
    "# show the most common words\n",
    "from collections import Counter\n",
    "words_counter = Counter(full_words_list)\n",
    "words_counter.most_common(25)\n",
    "\n",
    "# draw a bag of words plot\n",
    "words_df = pd.DataFrame.from_dict(words_counter, orient='index').reset_index()\n",
    "words_df.columns = ['word', 'count']\n",
    "words_df = words_df.sort_values(by='count', ascending=False)\n",
    "plt.figure(figsize=(10, 6))\n",
    "sns.barplot(x='count', y='word', data=words_df.head(25))\n",
    "plt.title('Most common words in the phenotype description')\n",
    "plt.show()\n",
    "\n"
   ]
  },
  {
   "cell_type": "code",
   "execution_count": 22,
   "metadata": {},
   "outputs": [
    {
     "name": "stdout",
     "output_type": "stream",
     "text": [
      "affiliation 6\n",
      "release date 18\n",
      "organism 103\n",
      "baseline majoritary score 3\n",
      "best univariate score 3\n",
      "best method score 3\n",
      "best algo name 3\n",
      "best algo score 3\n",
      "tendency 3\n",
      "number of algos runned 835\n",
      "technique category 10\n"
     ]
    }
   ],
   "source": [
    "meta_df\n",
    "# count the number of '?' by column\n",
    "for c in meta_df.columns:\n",
    "    if '?' in meta_df[c].values:\n",
    "        print(c, meta_df[c].value_counts()['?'])\n"
   ]
  },
  {
   "cell_type": "code",
   "execution_count": 23,
   "metadata": {},
   "outputs": [],
   "source": [
    "# add the difference between the best algo score and the best univariate score\n",
    "difference_list = []\n",
    "for ml_score, uni_score in zip(meta_df['best algo score'], meta_df['best univariate score']):\n",
    "    try:\n",
    "        difference_list.append(ml_score - uni_score)\n",
    "    except:\n",
    "        difference_list.append(np.nan)\n",
    "meta_df['difference ML univariate'] = difference_list\n",
    "# drop the rows with nan on the difference\n",
    "meta_df['absolute difference |ML - univariate|'] = meta_df['difference ML univariate'].abs()\n",
    "meta_df['best overall score'] = meta_df[['best algo score', 'best univariate score']].max(axis=1)"
   ]
  },
  {
   "cell_type": "code",
   "execution_count": 24,
   "metadata": {},
   "outputs": [],
   "source": [
    "meta_df['fatness'] = meta_df['n features'] / meta_df['n samples']\n",
    "meta_df['is fat'] = meta_df['fatness'] > 1"
   ]
  },
  {
   "cell_type": "code",
   "execution_count": 25,
   "metadata": {},
   "outputs": [
    {
     "name": "stderr",
     "output_type": "stream",
     "text": [
      "/tmp/ipykernel_18095/2494411707.py:1: FutureWarning: errors='ignore' is deprecated and will raise in a future version. Use to_datetime without passing `errors` and catch exceptions explicitly instead\n",
      "  meta_df['release date'] = pd.to_datetime(meta_df['release date'], errors='ignore')\n"
     ]
    }
   ],
   "source": [
    "meta_df['release date'] = pd.to_datetime(meta_df['release date'], errors='ignore')\n",
    "year_col = []\n",
    "for d in meta_df['release date']:\n",
    "    try:\n",
    "        year_col.append(int(d.split('-')[0]))\n",
    "    except:\n",
    "        year_col.append('?')\n",
    "\n",
    "meta_df['release year'] = year_col"
   ]
  },
  {
   "cell_type": "code",
   "execution_count": 26,
   "metadata": {},
   "outputs": [
    {
     "data": {
      "text/plain": [
       "3"
      ]
     },
     "execution_count": 26,
     "metadata": {},
     "output_type": "execute_result"
    }
   ],
   "source": [
    "# missing values in the release date\n",
    "meta_df['release date'].isna().sum()"
   ]
  },
  {
   "cell_type": "code",
   "execution_count": 27,
   "metadata": {},
   "outputs": [
    {
     "data": {
      "text/plain": [
       "tendency\n",
       "multivariate models performs better than univariate models    372\n",
       "multivariate and univariate models are equivalent             270\n",
       "univariate models performs better than multivariate models    177\n",
       "no models performs better than the baseline                    13\n",
       "?                                                               3\n",
       "Name: count, dtype: int64"
      ]
     },
     "execution_count": 27,
     "metadata": {},
     "output_type": "execute_result"
    }
   ],
   "source": [
    "meta_df['tendency'].value_counts()"
   ]
  },
  {
   "cell_type": "code",
   "execution_count": 28,
   "metadata": {},
   "outputs": [
    {
     "name": "stderr",
     "output_type": "stream",
     "text": [
      "/tmp/ipykernel_18095/1735993407.py:2: FutureWarning: The behavior of DataFrame.idxmax with all-NA values, or any-NA and skipna=False, is deprecated. In a future version this will raise ValueError\n",
      "  meta_df['structure of best method'] = meta_df[['best rule-based algo score', 'best linear-based algo score']].idxmax(axis=1)\n"
     ]
    }
   ],
   "source": [
    "meta_df['difference rule-based - linear-based'] = meta_df['best rule-based algo score'] - meta_df['best linear-based algo score']\n",
    "meta_df['structure of best method'] = meta_df[['best rule-based algo score', 'best linear-based algo score']].idxmax(axis=1)\n",
    "meta_df['structure of best method'] = [{'best rule-based algo score': 'rule-based multivariate', '?': '?', 'best linear-based algo score': 'linear-based multivariate', np.nan: np.nan}[f] for f in meta_df['structure of best method']]\n",
    "meta_df['structure of best method'] = [f if t == 'multivariate models performs better than univariate models' else 'univariate' for f, t in zip(meta_df['structure of best method'], meta_df['tendency'])]\n",
    "meta_df['structure of best method'] = ['baseline' if t == 'no models performs better than the baseline' else f for f, t in zip(meta_df['structure of best method'], meta_df['tendency'])]"
   ]
  },
  {
   "cell_type": "code",
   "execution_count": 29,
   "metadata": {},
   "outputs": [
    {
     "name": "stdout",
     "output_type": "stream",
     "text": [
      "meta_df.csv already exists, are you sure you want to overwrite it? uncomment the next line to overwrite it\n"
     ]
    }
   ],
   "source": [
    "# save the meta_df\n",
    "meta_df_filename = f'meta_df_{metric}.csv'\n",
    "\n",
    "if not os.path.exists(meta_df_filename):\n",
    "    meta_df.to_csv(meta_df_filename)\n",
    "else:\n",
    "    print('meta_df.csv already exists, are you sure you want to overwrite it? uncomment the next line to overwrite it')\n",
    "    #meta_df.to_csv(meta_df_filename)"
   ]
  }
 ],
 "metadata": {
  "kernelspec": {
   "display_name": "env-onselectingrobustapproachesinmetabolomics",
   "language": "python",
   "name": "python3"
  },
  "language_info": {
   "codemirror_mode": {
    "name": "ipython",
    "version": 3
   },
   "file_extension": ".py",
   "mimetype": "text/x-python",
   "name": "python",
   "nbconvert_exporter": "python",
   "pygments_lexer": "ipython3",
   "version": "3.11.2"
  }
 },
 "nbformat": 4,
 "nbformat_minor": 2
}
